{
  "nbformat": 4,
  "nbformat_minor": 0,
  "metadata": {
    "colab": {
      "name": "Object Recognition - LBP - GPU- Final.ipynb",
      "provenance": [],
      "collapsed_sections": [],
      "include_colab_link": true
    },
    "kernelspec": {
      "name": "python3",
      "display_name": "Python 3"
    },
    "accelerator": "GPU"
  },
  "cells": [
    {
      "cell_type": "markdown",
      "metadata": {
        "id": "view-in-github",
        "colab_type": "text"
      },
      "source": [
        "<a href=\"https://colab.research.google.com/github/atanuGuin/ComputerVisionCourse/blob/master/Object_Recognition_Linear%20Binary%20Pattern_CIFAR10.ipynb\" target=\"_parent\"><img src=\"https://colab.research.google.com/assets/colab-badge.svg\" alt=\"Open In Colab\"/></a>"
      ]
    },
    {
      "cell_type": "code",
      "metadata": {
        "id": "hiiN9lGaSxvJ",
        "colab_type": "code",
        "colab": {}
      },
      "source": [
        "import os\n",
        "import numpy as np\n",
        "import matplotlib.pyplot as plt\n",
        "import torch\n",
        "import torchvision\n",
        "from torchvision import transforms\n",
        "from torchvision.transforms import ToTensor\n",
        "from torch.utils.data.sampler import SubsetRandomSampler\n",
        "from torch.utils.data.dataloader import DataLoader\n",
        "from torchvision.datasets import ImageFolder\n",
        "import torch.nn as nn\n",
        "import torch.nn.functional as F\n",
        "import cv2\n",
        "from skimage import feature\n",
        "import copy"
      ],
      "execution_count": null,
      "outputs": []
    },
    {
      "cell_type": "code",
      "metadata": {
        "id": "6T-amUBqytks",
        "colab_type": "code",
        "colab": {
          "base_uri": "https://localhost:8080/",
          "height": 196
        },
        "outputId": "0ac3dd50-44a2-4bdb-d04a-8b6a6c4ad2e9"
      },
      "source": [
        "!wget 'http://files.fast.ai/data/cifar10.tgz'\n",
        "!tar -xf cifar10.tgz"
      ],
      "execution_count": null,
      "outputs": [
        {
          "output_type": "stream",
          "text": [
            "--2020-06-12 06:25:34--  http://files.fast.ai/data/cifar10.tgz\n",
            "Resolving files.fast.ai (files.fast.ai)... 67.205.15.147\n",
            "Connecting to files.fast.ai (files.fast.ai)|67.205.15.147|:80... connected.\n",
            "HTTP request sent, awaiting response... 200 OK\n",
            "Length: 168168549 (160M) [application/x-gtar-compressed]\n",
            "Saving to: ‘cifar10.tgz’\n",
            "\n",
            "cifar10.tgz         100%[===================>] 160.38M  35.4MB/s    in 5.1s    \n",
            "\n",
            "2020-06-12 06:25:39 (31.6 MB/s) - ‘cifar10.tgz’ saved [168168549/168168549]\n",
            "\n"
          ],
          "name": "stdout"
        }
      ]
    },
    {
      "cell_type": "code",
      "metadata": {
        "id": "pvYqiRu2fJWH",
        "colab_type": "code",
        "colab": {
          "base_uri": "https://localhost:8080/",
          "height": 33
        },
        "outputId": "5c539d30-3933-427b-ae6e-fc81da0b062c"
      },
      "source": [
        "torch.cuda.is_available()"
      ],
      "execution_count": null,
      "outputs": [
        {
          "output_type": "execute_result",
          "data": {
            "text/plain": [
              "True"
            ]
          },
          "metadata": {
            "tags": []
          },
          "execution_count": 3
        }
      ]
    },
    {
      "cell_type": "code",
      "metadata": {
        "id": "H1UeO47VfPb1",
        "colab_type": "code",
        "colab": {}
      },
      "source": [
        "def get_device():\n",
        "  if torch.cuda.is_available():\n",
        "    return torch.device('cuda')\n",
        "  else:\n",
        "    return torch.device('cpu')"
      ],
      "execution_count": null,
      "outputs": []
    },
    {
      "cell_type": "code",
      "metadata": {
        "id": "ugqyVbTHfQXp",
        "colab_type": "code",
        "colab": {}
      },
      "source": [
        "device = get_device()"
      ],
      "execution_count": null,
      "outputs": []
    },
    {
      "cell_type": "code",
      "metadata": {
        "id": "cWzhKj3dfQ2V",
        "colab_type": "code",
        "colab": {}
      },
      "source": [
        "def to_device(data, device):\n",
        "    \"\"\"Move tensor(s) to chosen device\"\"\"\n",
        "    if isinstance(data, (list,tuple)):\n",
        "        return [to_device(x, device) for x in data]\n",
        "    return data.to(device, non_blocking=True)"
      ],
      "execution_count": null,
      "outputs": []
    },
    {
      "cell_type": "code",
      "metadata": {
        "id": "k1jnIh8hyv4E",
        "colab_type": "code",
        "colab": {
          "base_uri": "https://localhost:8080/",
          "height": 50
        },
        "outputId": "008903cb-1f8a-49e8-d29b-da1a1c303401"
      },
      "source": [
        "data_dir = '/content/cifar10'\n",
        "\n",
        "print(os.listdir(data_dir))\n",
        "classes = sorted(os.listdir(data_dir + \"/train\"))\n",
        "print(classes)"
      ],
      "execution_count": null,
      "outputs": [
        {
          "output_type": "stream",
          "text": [
            "['labels.txt', 'train', 'test']\n",
            "['airplane', 'automobile', 'bird', 'cat', 'deer', 'dog', 'frog', 'horse', 'ship', 'truck']\n"
          ],
          "name": "stdout"
        }
      ]
    },
    {
      "cell_type": "code",
      "metadata": {
        "id": "rhNdJcX_zZm4",
        "colab_type": "code",
        "colab": {}
      },
      "source": [
        "data_transform = transforms.Compose([transforms.Grayscale(num_output_channels=1),\n",
        "                                     transforms.ToTensor()])\n",
        "dataset = ImageFolder(data_dir+'/train',   transform=data_transform)"
      ],
      "execution_count": null,
      "outputs": []
    },
    {
      "cell_type": "code",
      "metadata": {
        "id": "P3RRqnA_zg5m",
        "colab_type": "code",
        "colab": {
          "base_uri": "https://localhost:8080/",
          "height": 33
        },
        "outputId": "82afb63b-cd7a-4628-e51f-ffa729ffde89"
      },
      "source": [
        "len(dataset)"
      ],
      "execution_count": null,
      "outputs": [
        {
          "output_type": "execute_result",
          "data": {
            "text/plain": [
              "50000"
            ]
          },
          "metadata": {
            "tags": []
          },
          "execution_count": 9
        }
      ]
    },
    {
      "cell_type": "code",
      "metadata": {
        "id": "DB1XzPE90AOZ",
        "colab_type": "code",
        "colab": {}
      },
      "source": [
        "def split_indices(n, val_pct, seed):\n",
        "    # Determine size of validation set\n",
        "    n_val = int(val_pct*n)\n",
        "    # Set the random seed (for reproducibility)\n",
        "    np.random.seed(seed)\n",
        "    # Create random permutation of 0 to n-1\n",
        "    idxs = np.random.permutation(n)\n",
        "    # Pick first n_val indices for validation set\n",
        "    return idxs[n_val:], idxs[:n_val]"
      ],
      "execution_count": null,
      "outputs": []
    },
    {
      "cell_type": "code",
      "metadata": {
        "id": "OvnMSohz0Pmo",
        "colab_type": "code",
        "colab": {
          "base_uri": "https://localhost:8080/",
          "height": 50
        },
        "outputId": "e3f5e12d-5644-437b-846d-ec729556247d"
      },
      "source": [
        "val_pct = 0.2\n",
        "rand_seed = 42\n",
        "\n",
        "train_indices, val_indices = split_indices(len(dataset), val_pct, rand_seed)\n",
        "print(len(train_indices), len(val_indices))\n",
        "print('Sample validation indices: ', val_indices[:10])"
      ],
      "execution_count": null,
      "outputs": [
        {
          "output_type": "stream",
          "text": [
            "40000 10000\n",
            "Sample validation indices:  [33553  9427   199 12447 39489 42724 10822 49498  4144 36958]\n"
          ],
          "name": "stdout"
        }
      ]
    },
    {
      "cell_type": "code",
      "metadata": {
        "id": "PaHgpwttlp9k",
        "colab_type": "code",
        "colab": {}
      },
      "source": [
        "batch_size=128\n",
        "\n",
        "# Training sampler and data loader\n",
        "train_sampler = SubsetRandomSampler(train_indices)\n",
        "train_dl = DataLoader(dataset, \n",
        "                      batch_size, \n",
        "                      sampler=train_sampler)\n",
        "\n",
        "# Validation sampler and data loader\n",
        "val_sampler = SubsetRandomSampler(val_indices)\n",
        "val_dl = DataLoader(dataset,\n",
        "                    batch_size, \n",
        "                    sampler=val_sampler)"
      ],
      "execution_count": null,
      "outputs": []
    },
    {
      "cell_type": "code",
      "metadata": {
        "id": "CXQGNiVh0Qxi",
        "colab_type": "code",
        "colab": {
          "base_uri": "https://localhost:8080/",
          "height": 298
        },
        "outputId": "c233e7cc-de13-4cbc-df84-74d23fa46f7d"
      },
      "source": [
        "img,label = dataset[1500]\n",
        "print(\"Label: \",classes[label])\n",
        "plt.imshow(np.array(img.squeeze()))\n"
      ],
      "execution_count": null,
      "outputs": [
        {
          "output_type": "stream",
          "text": [
            "Label:  airplane\n"
          ],
          "name": "stdout"
        },
        {
          "output_type": "execute_result",
          "data": {
            "text/plain": [
              "<matplotlib.image.AxesImage at 0x7f0e853ba7f0>"
            ]
          },
          "metadata": {
            "tags": []
          },
          "execution_count": 13
        },
        {
          "output_type": "display_data",
          "data": {
            "image/png": "[encoded data removed]",
            "text/plain": [
              "<Figure size 432x288 with 1 Axes>"
            ]
          },
          "metadata": {
            "tags": [],
            "needs_background": "light"
          }
        }
      ]
    },
    {
      "cell_type": "code",
      "metadata": {
        "id": "kZDcICg65net",
        "colab_type": "code",
        "colab": {
          "base_uri": "https://localhost:8080/",
          "height": 298
        },
        "outputId": "a83316e4-e3d4-4836-ad83-c64ae571d46e"
      },
      "source": [
        "img,label = dataset[25369]\n",
        "print(\"Label: \",classes[label])\n",
        "plt.imshow(np.array(img.squeeze()))"
      ],
      "execution_count": null,
      "outputs": [
        {
          "output_type": "stream",
          "text": [
            "Label:  dog\n"
          ],
          "name": "stdout"
        },
        {
          "output_type": "execute_result",
          "data": {
            "text/plain": [
              "<matplotlib.image.AxesImage at 0x7f0e84e90d68>"
            ]
          },
          "metadata": {
            "tags": []
          },
          "execution_count": 14
        },
        {
          "output_type": "display_data",
          "data": {
            "image/png": "[encoded data removed]",
            "text/plain": [
              "<Figure size 432x288 with 1 Axes>"
            ]
          },
          "metadata": {
            "tags": [],
            "needs_background": "light"
          }
        }
      ]
    },
    {
      "cell_type": "code",
      "metadata": {
        "id": "5rPaL2gj3vQX",
        "colab_type": "code",
        "colab": {}
      },
      "source": [
        "class finding_LBP():\n",
        "  def __init__(self, points, rad):\n",
        "    self.points = points\n",
        "    self.rad = rad\n",
        "\n",
        "  def describe(self, image, eps=1e-10):\n",
        "    lbp = feature.local_binary_pattern(image, self.points,self.rad, method=\"uniform\")\n",
        "    (hist, _) = np.histogram(lbp.ravel(),bins=np.arange(0, self.points + 3),range=(0, self.points + 2))\n",
        "    lbp = (lbp - lbp.min()) / (lbp.max() - lbp.min())\n",
        "    hist = hist.astype(\"float\")\n",
        "    hist /= (hist.sum() + eps)\n",
        "    return lbp,hist"
      ],
      "execution_count": null,
      "outputs": []
    },
    {
      "cell_type": "code",
      "metadata": {
        "id": "EjG_mUOI3vkU",
        "colab_type": "code",
        "colab": {}
      },
      "source": [
        "# lbp = finding_LBP(24,8)\n",
        "lbpx = finding_LBP(8,1)"
      ],
      "execution_count": null,
      "outputs": []
    },
    {
      "cell_type": "code",
      "metadata": {
        "id": "NWeFqn_Y3vn7",
        "colab_type": "code",
        "colab": {
          "base_uri": "https://localhost:8080/",
          "height": 282
        },
        "outputId": "cd1b1dcc-01d7-4e3f-ef75-003887db87dd"
      },
      "source": [
        "img,label = dataset[25375]\n",
        "print(\"Label: \",classes[label])\n",
        "plt.imshow(np.array(img.squeeze()))\n",
        "arr,hist = lbpx.describe(np.array(img.squeeze()))\n",
        "# arr2,hist2 = lbp2.describe(np.array(img.squeeze()))"
      ],
      "execution_count": null,
      "outputs": [
        {
          "output_type": "stream",
          "text": [
            "Label:  dog\n"
          ],
          "name": "stdout"
        },
        {
          "output_type": "display_data",
          "data": {
            "image/png": "[encoded data removed]",
            "text/plain": [
              "<Figure size 432x288 with 1 Axes>"
            ]
          },
          "metadata": {
            "tags": [],
            "needs_background": "light"
          }
        }
      ]
    },
    {
      "cell_type": "code",
      "metadata": {
        "id": "QZB5L1Uo9DEe",
        "colab_type": "code",
        "colab": {
          "base_uri": "https://localhost:8080/",
          "height": 315
        },
        "outputId": "03221601-ccfc-4e8c-affb-7663910cbaee"
      },
      "source": [
        "print('Hist:',hist)\n",
        "plt.imshow(arr)"
      ],
      "execution_count": null,
      "outputs": [
        {
          "output_type": "stream",
          "text": [
            "Hist: [0.04003906 0.08203125 0.06152344 0.13378906 0.28027344 0.16503906\n",
            " 0.07226562 0.04980469 0.03710937 0.078125  ]\n"
          ],
          "name": "stdout"
        },
        {
          "output_type": "execute_result",
          "data": {
            "text/plain": [
              "<matplotlib.image.AxesImage at 0x7f0e84dedb00>"
            ]
          },
          "metadata": {
            "tags": []
          },
          "execution_count": 18
        },
        {
          "output_type": "display_data",
          "data": {
            "image/png": "[encoded data removed]",
            "text/plain": [
              "<Figure size 432x288 with 1 Axes>"
            ]
          },
          "metadata": {
            "tags": [],
            "needs_background": "light"
          }
        }
      ]
    },
    {
      "cell_type": "code",
      "metadata": {
        "id": "CYJUEZ_M9qzd",
        "colab_type": "code",
        "colab": {}
      },
      "source": [
        "# print('Hist:',hist2)\n",
        "# plt.imshow(arr2)"
      ],
      "execution_count": null,
      "outputs": []
    },
    {
      "cell_type": "code",
      "metadata": {
        "id": "2ZkFLY88IJhb",
        "colab_type": "code",
        "colab": {}
      },
      "source": [
        "def batchLbp(batch,lbpobj):\n",
        "  images,labels = batch\n",
        "  # print('images shape:',images.shape)\n",
        "  # print('lbls shape:',labels.shape)\n",
        "  histfeats = []\n",
        "  lbpfeats = []\n",
        "  for i in images:\n",
        "    arr,hist = lbpobj.describe(i.squeeze())\n",
        "    lbpfeats.append(arr)\n",
        "    histfeats.append(hist)\n",
        "  hfeats=torch.as_tensor(np.array(histfeats,dtype='float32'))\n",
        "  lfeats=torch.as_tensor(np.array(lbpfeats,dtype='float32'))\n",
        "  # print(lfeats)\n",
        "  # print(type(labels))\n",
        "  # print(lfeats.view(-1,32*32).shape)\n",
        "  # data = (lfeats,labels)\n",
        "  data = (hfeats,labels)\n",
        "  data = to_device(data,device)\n",
        "  return data\n"
      ],
      "execution_count": null,
      "outputs": []
    },
    {
      "cell_type": "code",
      "metadata": {
        "id": "iUAxcFKALV9E",
        "colab_type": "code",
        "colab": {}
      },
      "source": [
        "# lbpx = finding_LBP(12,4)\n",
        "# for batch in train_dl:\n",
        "#   d=batchLbp(batch,lbpx)\n",
        "#   break"
      ],
      "execution_count": null,
      "outputs": []
    },
    {
      "cell_type": "code",
      "metadata": {
        "id": "ha5kYZHt2jv2",
        "colab_type": "code",
        "colab": {}
      },
      "source": [
        "class CifarModel(nn.Module):\n",
        "\n",
        "  def __init__(self,input_size,hidden_size,out_size,lbpobj):\n",
        "    super().__init__()\n",
        "    self.lbpobj = lbpobj\n",
        "    self.linear1 = nn.Linear(input_size,hidden_size)\n",
        "    self.linear2 = nn.Linear(hidden_size,out_size)\n",
        "\n",
        "  def forward(self,vb):\n",
        "    # vb = vb.view(vb.size(0),-1)\n",
        "    vb = vb.view(-1,input_size)\n",
        "    # print('vbow shape:',vb.shape)\n",
        "    out = self.linear1(vb)\n",
        "    out = F.relu(out)\n",
        "    # out = torch.sigmoid(out)\n",
        "    out = self.linear2(out)\n",
        "    return out\n",
        "\n",
        "  def training_step(self,batch):\n",
        "    d = batchLbp(batch,self.lbpobj)\n",
        "    hfeats,labels = d\n",
        "    out = self(hfeats)\n",
        "    acc = accuracy(out,labels)\n",
        "    # print('Out shape:',out.shape)\n",
        "    # print('labels shape:',labels.shape)\n",
        "    loss = F.cross_entropy(out,labels)\n",
        "    return loss,acc\n",
        "\n",
        "  def validation_step(self,batch):\n",
        "    d = batchLbp(batch,self.lbpobj)\n",
        "    hfeats,labels = d\n",
        "    out = self(hfeats)\n",
        "    # print('Out shape:',out.shape)\n",
        "    # print('labels shape:',labels.shape)\n",
        "    loss = F.cross_entropy(out,labels)\n",
        "    acc = accuracy(out,labels)\n",
        "    return {'val_loss' : loss, 'val_acc' : acc }\n",
        "\n",
        "  def validation_epoch_end(self,outputs):\n",
        "    batch_losses = [x['val_loss'] for x in outputs]\n",
        "    epoch_loss = torch.stack(batch_losses).mean()\n",
        "    batch_accs = [x['val_acc'] for x in outputs]\n",
        "    epoch_acc = torch.stack(batch_accs).mean()\n",
        "    return {'val_loss' : epoch_loss.item(), 'val_acc' : epoch_acc.item() }\n",
        "    \n",
        "  # def epoch_end(epoch, result2):\n",
        "  #     # print(\"Epoch [{}], train_loss: {:.4f}, train_acc: {:.4f}\".format(epoch, result1['val_loss'], result1['val_acc']))\n",
        "  #     print(\"val_loss: {:.4f}, val_acc: {:.4f}\".format(result2['val_loss'], result2['val_acc']))\n"
      ],
      "execution_count": null,
      "outputs": []
    },
    {
      "cell_type": "code",
      "metadata": {
        "id": "CwewEoGDgT5p",
        "colab_type": "code",
        "colab": {
          "base_uri": "https://localhost:8080/",
          "height": 82
        },
        "outputId": "b86a1abd-a6f2-4c71-a15a-156246e99772"
      },
      "source": [
        "lbpraadius = 1\n",
        "lbppoints = 24 * max(lbpraadius,1)\n",
        "lbp = finding_LBP(lbppoints,lbpraadius)\n",
        "# input_size = 32*32\n",
        "input_size = lbppoints + 2\n",
        "num_classes = len(classes)\n",
        "\n",
        "model = CifarModel(input_size, hidden_size=16,out_size=num_classes,lbpobj=lbp)\n",
        "\n",
        "to_device(model, device)"
      ],
      "execution_count": null,
      "outputs": [
        {
          "output_type": "execute_result",
          "data": {
            "text/plain": [
              "CifarModel(\n",
              "  (linear1): Linear(in_features=26, out_features=16, bias=True)\n",
              "  (linear2): Linear(in_features=16, out_features=10, bias=True)\n",
              ")"
            ]
          },
          "metadata": {
            "tags": []
          },
          "execution_count": 23
        }
      ]
    },
    {
      "cell_type": "code",
      "metadata": {
        "id": "9tA3_ssK3mke",
        "colab_type": "code",
        "colab": {}
      },
      "source": [
        "def accuracy(outputs,labels):\n",
        "  _,preds =  torch.max(outputs,dim=1)\n",
        "  return torch.tensor(torch.sum(preds==labels).item()/len(preds))"
      ],
      "execution_count": null,
      "outputs": []
    },
    {
      "cell_type": "code",
      "metadata": {
        "id": "-U7-j9Rg5-iv",
        "colab_type": "code",
        "colab": {}
      },
      "source": [
        "def evaluate(model, valid_loader):\n",
        "    outputs = [model.validation_step(batch) for batch in valid_loader]\n",
        "    return model.validation_epoch_end(outputs)"
      ],
      "execution_count": null,
      "outputs": []
    },
    {
      "cell_type": "code",
      "metadata": {
        "id": "_gnMCiISzDA3",
        "colab_type": "code",
        "colab": {}
      },
      "source": [
        "def fit(model,train_loader,valid_loader,epochs,opt,lr_scheduler):\n",
        "  history = []  \n",
        "  best_model_params = copy.deepcopy(model.state_dict())\n",
        "  best_acc = 0.0\n",
        "  for epoch in range(epochs):\n",
        "    train_stats = []\n",
        "    # train_result ={}\n",
        "    train_acc = 0.0\n",
        "    #For Training\n",
        "    for batch in train_loader:\n",
        "      opt.zero_grad()\n",
        "      loss,acc = model.training_step(batch)\n",
        "      train_acc = acc\n",
        "      loss.backward()\n",
        "      opt.step()\n",
        "      train_stats.append({'val_loss' : loss, 'val_acc' : train_acc })\n",
        "\n",
        "    \n",
        "    \n",
        "    train_result = model.validation_epoch_end(train_stats)\n",
        "    # print(train_result)\n",
        "    \n",
        "    #For validation\n",
        "    valid_result = evaluate(model, valid_loader)\n",
        "\n",
        "    # lr_scheduler.step()\n",
        "\n",
        "    if(epoch+1)%1==0:\n",
        "      print(\"epoch: {}, training_loss: {:.4f}, training_acc: {:.4f}, val_loss: {:.4f}, val_acc: {:.4f}\".format(epoch+1, train_result['val_loss'], train_result['val_acc'], valid_result['val_loss'], valid_result['val_acc']))\n",
        "      # model.epoch_end(epoch+1,valid_result)\n",
        "    \n",
        "    history.append(valid_result)\n",
        "    \n",
        "    if best_acc < valid_result['val_acc']:\n",
        "      best_model_params = copy.deepcopy(model.state_dict())\n",
        "      best_acc = valid_result['val_acc']\n",
        "\n",
        "  model.load_state_dict(best_model_params)\n",
        "  return model, history    \n"
      ],
      "execution_count": null,
      "outputs": []
    },
    {
      "cell_type": "code",
      "metadata": {
        "id": "vWmAOVod7IGv",
        "colab_type": "code",
        "colab": {}
      },
      "source": [
        "from torch.optim import lr_scheduler\n",
        "lr = 0.5\n",
        "opt = torch.optim.SGD(model.parameters(),lr)  \n",
        "scheduler = lr_scheduler.StepLR(opt, step_size=30, gamma=0.1)"
      ],
      "execution_count": null,
      "outputs": []
    },
    {
      "cell_type": "code",
      "metadata": {
        "id": "D0cjcOZJ7IDd",
        "colab_type": "code",
        "colab": {
          "base_uri": "https://localhost:8080/",
          "height": 830
        },
        "outputId": "7d40b138-8027-4102-be8a-dc1f54d0bd3a"
      },
      "source": [
        "model, history = fit(model,train_dl,val_dl,50,opt,lr_scheduler=scheduler)"
      ],
      "execution_count": null,
      "outputs": [
        {
          "output_type": "stream",
          "text": [
            "epoch: 1, training_loss: 1.9798, training_acc: 0.2802, val_loss: 1.9730, val_acc: 0.2874\n",
            "epoch: 2, training_loss: 1.9805, training_acc: 0.2796, val_loss: 1.9762, val_acc: 0.2883\n",
            "epoch: 3, training_loss: 1.9774, training_acc: 0.2811, val_loss: 2.0415, val_acc: 0.2547\n",
            "epoch: 4, training_loss: 1.9772, training_acc: 0.2817, val_loss: 2.0321, val_acc: 0.2439\n",
            "epoch: 5, training_loss: 1.9744, training_acc: 0.2823, val_loss: 1.9570, val_acc: 0.2955\n",
            "epoch: 6, training_loss: 1.9753, training_acc: 0.2812, val_loss: 1.9759, val_acc: 0.2854\n",
            "epoch: 7, training_loss: 1.9707, training_acc: 0.2840, val_loss: 1.9660, val_acc: 0.2798\n",
            "epoch: 8, training_loss: 1.9735, training_acc: 0.2832, val_loss: 1.9928, val_acc: 0.2662\n",
            "epoch: 9, training_loss: 1.9715, training_acc: 0.2834, val_loss: 1.9609, val_acc: 0.2895\n",
            "epoch: 10, training_loss: 1.9737, training_acc: 0.2839, val_loss: 2.0194, val_acc: 0.2628\n",
            "epoch: 11, training_loss: 1.9714, training_acc: 0.2808, val_loss: 1.9783, val_acc: 0.2894\n",
            "epoch: 12, training_loss: 1.9717, training_acc: 0.2818, val_loss: 1.9651, val_acc: 0.2790\n",
            "epoch: 13, training_loss: 1.9646, training_acc: 0.2858, val_loss: 2.0523, val_acc: 0.2409\n",
            "epoch: 14, training_loss: 1.9716, training_acc: 0.2810, val_loss: 1.9535, val_acc: 0.2910\n",
            "epoch: 15, training_loss: 1.9722, training_acc: 0.2852, val_loss: 1.9508, val_acc: 0.2930\n",
            "epoch: 16, training_loss: 1.9645, training_acc: 0.2865, val_loss: 2.0367, val_acc: 0.2555\n",
            "epoch: 17, training_loss: 1.9676, training_acc: 0.2857, val_loss: 1.9563, val_acc: 0.2922\n",
            "epoch: 18, training_loss: 1.9644, training_acc: 0.2862, val_loss: 1.9815, val_acc: 0.2830\n",
            "epoch: 19, training_loss: 1.9646, training_acc: 0.2861, val_loss: 2.0398, val_acc: 0.2523\n",
            "epoch: 20, training_loss: 1.9622, training_acc: 0.2877, val_loss: 1.9705, val_acc: 0.2837\n",
            "epoch: 21, training_loss: 1.9658, training_acc: 0.2859, val_loss: 1.9756, val_acc: 0.2812\n",
            "epoch: 22, training_loss: 1.9645, training_acc: 0.2865, val_loss: 1.9632, val_acc: 0.2794\n",
            "epoch: 23, training_loss: 1.9617, training_acc: 0.2877, val_loss: 1.9709, val_acc: 0.2816\n",
            "epoch: 24, training_loss: 1.9662, training_acc: 0.2866, val_loss: 1.9437, val_acc: 0.2944\n",
            "epoch: 25, training_loss: 1.9606, training_acc: 0.2883, val_loss: 2.0011, val_acc: 0.2620\n",
            "epoch: 26, training_loss: 1.9623, training_acc: 0.2889, val_loss: 1.9779, val_acc: 0.2756\n",
            "epoch: 27, training_loss: 1.9622, training_acc: 0.2878, val_loss: 1.9436, val_acc: 0.2931\n",
            "epoch: 28, training_loss: 1.9616, training_acc: 0.2878, val_loss: 1.9968, val_acc: 0.2774\n",
            "epoch: 29, training_loss: 1.9616, training_acc: 0.2875, val_loss: 1.9659, val_acc: 0.2945\n",
            "epoch: 30, training_loss: 1.9578, training_acc: 0.2915, val_loss: 1.9646, val_acc: 0.2853\n",
            "epoch: 31, training_loss: 1.9612, training_acc: 0.2905, val_loss: 1.9522, val_acc: 0.2927\n",
            "epoch: 32, training_loss: 1.9590, training_acc: 0.2909, val_loss: 1.9414, val_acc: 0.2969\n",
            "epoch: 33, training_loss: 1.9563, training_acc: 0.2926, val_loss: 1.9639, val_acc: 0.2855\n",
            "epoch: 34, training_loss: 1.9588, training_acc: 0.2893, val_loss: 1.9678, val_acc: 0.2821\n",
            "epoch: 35, training_loss: 1.9578, training_acc: 0.2892, val_loss: 1.9958, val_acc: 0.2791\n",
            "epoch: 36, training_loss: 1.9566, training_acc: 0.2924, val_loss: 1.9663, val_acc: 0.2756\n",
            "epoch: 37, training_loss: 1.9557, training_acc: 0.2915, val_loss: 1.9741, val_acc: 0.2869\n",
            "epoch: 38, training_loss: 1.9577, training_acc: 0.2902, val_loss: 1.9466, val_acc: 0.2916\n",
            "epoch: 39, training_loss: 1.9569, training_acc: 0.2932, val_loss: 1.9576, val_acc: 0.2870\n",
            "epoch: 40, training_loss: 1.9541, training_acc: 0.2914, val_loss: 1.9616, val_acc: 0.2815\n",
            "epoch: 41, training_loss: 1.9567, training_acc: 0.2916, val_loss: 1.9570, val_acc: 0.2863\n",
            "epoch: 42, training_loss: 1.9562, training_acc: 0.2916, val_loss: 1.9892, val_acc: 0.2809\n",
            "epoch: 43, training_loss: 1.9526, training_acc: 0.2911, val_loss: 2.0257, val_acc: 0.2622\n",
            "epoch: 44, training_loss: 1.9554, training_acc: 0.2907, val_loss: 1.9602, val_acc: 0.2776\n",
            "epoch: 45, training_loss: 1.9551, training_acc: 0.2924, val_loss: 1.9977, val_acc: 0.2717\n",
            "epoch: 46, training_loss: 1.9541, training_acc: 0.2939, val_loss: 1.9709, val_acc: 0.2841\n",
            "epoch: 47, training_loss: 1.9544, training_acc: 0.2929, val_loss: 1.9541, val_acc: 0.2896\n",
            "epoch: 48, training_loss: 1.9528, training_acc: 0.2947, val_loss: 1.9574, val_acc: 0.2873\n",
            "epoch: 49, training_loss: 1.9513, training_acc: 0.2930, val_loss: 1.9648, val_acc: 0.2911\n",
            "epoch: 50, training_loss: 1.9528, training_acc: 0.2926, val_loss: 1.9509, val_acc: 0.2878\n"
          ],
          "name": "stdout"
        }
      ]
    },
    {
      "cell_type": "code",
      "metadata": {
        "id": "mgadzxRSPY3q",
        "colab_type": "code",
        "colab": {}
      },
      "source": [
        "# for i in range(15,22):\n",
        "#   print('Batch size:{}, Hidden Layer:{} and Epoch: 60 and lr: 0.5 '.format(batch_size,i))\n",
        "#   model = CifarModel(input_size, hidden_size=i,out_size=num_classes,lbpobj=lbp)\n",
        "#   to_device(model, device)\n",
        "#   history = fit(model,train_dl,val_dl,60,torch.optim.SGD,0.5)\n"
      ],
      "execution_count": null,
      "outputs": []
    },
    {
      "cell_type": "code",
      "metadata": {
        "id": "4cJgLuJ6Ttod",
        "colab_type": "code",
        "colab": {}
      },
      "source": [
        "torch.save(model.state_dict(),'cifar_lbp.pth')"
      ],
      "execution_count": null,
      "outputs": []
    },
    {
      "cell_type": "code",
      "metadata": {
        "id": "eAID6CALFtB7",
        "colab_type": "code",
        "colab": {}
      },
      "source": [
        "test_dataset = ImageFolder(data_dir+'/test', transform=data_transform)"
      ],
      "execution_count": null,
      "outputs": []
    },
    {
      "cell_type": "code",
      "metadata": {
        "id": "NASIT-X6Qw9B",
        "colab_type": "code",
        "colab": {}
      },
      "source": [
        "test_dl = DataLoader(test_dataset, batch_size=256)"
      ],
      "execution_count": null,
      "outputs": []
    },
    {
      "cell_type": "code",
      "metadata": {
        "id": "SCsHeMM_REZA",
        "colab_type": "code",
        "colab": {}
      },
      "source": [
        "test_result = evaluate(model,test_dl)"
      ],
      "execution_count": null,
      "outputs": []
    },
    {
      "cell_type": "code",
      "metadata": {
        "id": "oq-N_gADSV4k",
        "colab_type": "code",
        "colab": {}
      },
      "source": [
        "print(\"test_loss: {:.4f}, test_acc: {:.4f}\".format(test_result['val_loss'], test_result['val_acc']))"
      ],
      "execution_count": null,
      "outputs": []
    },
    {
      "cell_type": "code",
      "metadata": {
        "id": "t1W9NpzJXLmR",
        "colab_type": "code",
        "colab": {}
      },
      "source": [
        ""
      ],
      "execution_count": null,
      "outputs": []
    }
  ]
}